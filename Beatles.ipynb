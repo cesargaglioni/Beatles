{
  "nbformat": 4,
  "nbformat_minor": 0,
  "metadata": {
    "colab": {
      "provenance": []
    },
    "kernelspec": {
      "name": "python3",
      "display_name": "Python 3"
    },
    "language_info": {
      "name": "python"
    }
  },
  "cells": [
    {
      "cell_type": "markdown",
      "source": [
        "# Primeira análise\n"
      ],
      "metadata": {
        "id": "4BQHQWaP88cS"
      }
    },
    {
      "cell_type": "code",
      "execution_count": null,
      "metadata": {
        "id": "kTri99mN7nKD"
      },
      "outputs": [],
      "source": [
        "# Importando as bibliotecas necessárias\n",
        "import pandas as pd\n",
        "import matplotlib.pyplot as plt\n",
        "import seaborn as sns\n",
        "\n",
        "# Criando o dataframe\n",
        "df = pd.read_csv(\"beatles_spotify.csv\")\n",
        "\n",
        "# Lendo o começo dos dados\n",
        "print(df.head())\n",
        "\n",
        "# Estatísticas das colunas\n",
        "print(df.describe())\n",
        "\n",
        "# Histograma das colunas\n",
        "df.hist(bins=50, figsize=(20,15))\n",
        "plt.show()\n",
        "\n",
        "# Pairplot para ver a relação das colunas\n",
        "sns.pairplot(df)\n",
        "plt.show()\n",
        "\n",
        "# Procurando por outliers\n",
        "df.boxplot(figsize=(20,15))\n",
        "plt.show()"
      ]
    },
    {
      "cell_type": "markdown",
      "source": [
        "# Analisando a popularidade de cada disco\n"
      ],
      "metadata": {
        "id": "xhAguD6B80Es"
      }
    },
    {
      "cell_type": "code",
      "source": [
        "# Criando um gráfico de barras para comparar a popularidade de cada álbum\n",
        "plt.figure(figsize=(10, 6))\n",
        "plt.bar(df.groupby('album').mean().index, df.groupby('album').mean()['popularity'], color='red')\n",
        "\n",
        "# Adicionando título e rótulos aos eixos\n",
        "plt.title(\"Comparação de Popularidade entre os discos\")\n",
        "plt.xlabel(\"Nome do Álbum\")\n",
        "plt.ylabel(\"Popularidade (0-100)\")\n",
        "plt.xticks(rotation=90)\n",
        "plt.show()\n",
        "\n",
        "# Exibindo o gráfico\n",
        "plt.show()\n"
      ],
      "metadata": {
        "id": "KCi53fql9F9F"
      },
      "execution_count": null,
      "outputs": []
    },
    {
      "cell_type": "code",
      "source": [
        "# Buscando as músicas mais populares\n",
        "\n",
        "df_sorted = df.sort_values(by='popularity', ascending=False)\n",
        "print(df_sorted[['name', 'popularity']].head(10))"
      ],
      "metadata": {
        "colab": {
          "base_uri": "https://localhost:8080/"
        },
        "id": "LbBjnkhEE1_v",
        "outputId": "335eb41e-d9c8-4b3a-97f1-3927771b13c8"
      },
      "execution_count": 28,
      "outputs": [
        {
          "output_type": "stream",
          "name": "stdout",
          "text": [
            "                                           name  popularity\n",
            "388        Here Comes The Sun - Remastered 2009          81\n",
            "375                 Let It Be - Remastered 2009          76\n",
            "382             Come Together - Remastered 2009          76\n",
            "618                 Yesterday - Remastered 2009          75\n",
            "422                 Blackbird - Remastered 2009          74\n",
            "674           Twist And Shout - Remastered 2009          74\n",
            "313                  Hey Jude - Remastered 2015          73\n",
            "602                In My Life - Remastered 2009          73\n",
            "383                 Something - Remastered 2009          71\n",
            "296  I Want To Hold Your Hand - Remastered 2015          71\n"
          ]
        }
      ]
    },
    {
      "cell_type": "markdown",
      "source": [
        "# Analisando os elementos das composições mais populares\n"
      ],
      "metadata": {
        "id": "mK_HTlSU-O--"
      }
    },
    {
      "cell_type": "code",
      "source": [
        "# Analisar a relação entre as características e a popularidade\n",
        "features = ['acousticness', 'danceability', 'energy', 'instrumentalness', 'liveness', 'loudness', 'speechiness', 'tempo', 'valence']\n",
        "for feature in features:\n",
        "    plt.figure()\n",
        "    sns.set_style(\"darkgrid\")\n",
        "    sns.regplot(x=feature, y='popularity', data=df)\n",
        "    plt.xlabel(feature)\n",
        "    plt.ylabel('Popularity')\n",
        "    plt.title(f\"Relação entre {feature} e Popularidade\")\n",
        "\n",
        "\n",
        "plt.show()\n",
        "\n",
        "# Analisar a relação entre as características e a duração da música\n",
        "for feature in features:\n",
        "    plt.figure()\n",
        "    sns.regplot(x=feature, y='duration_ms', data=df)\n",
        "    plt.xlabel(feature)\n",
        "    plt.ylabel('Duração (ms)')\n",
        "    plt.title(f\"Relação entre {feature} e Duração da Música\")\n",
        "plt.show()"
      ],
      "metadata": {
        "id": "4pVLMyd0-UIB"
      },
      "execution_count": null,
      "outputs": []
    },
    {
      "cell_type": "markdown",
      "source": [
        "# Analisando os álbuns individualmente\n"
      ],
      "metadata": {
        "id": "x2rD4i7FCn6n"
      }
    },
    {
      "cell_type": "code",
      "source": [
        "# Agrupe as músicas por álbum\n",
        "album_groups = df.groupby(\"album\")\n",
        "\n",
        "# Loop através dos grupos de álbuns\n",
        "for album, album_df in album_groups:\n",
        "    # Crie um gráfico de barras para cada característica\n",
        "    features = [\"acousticness\", \"danceability\", \"energy\", \"instrumentalness\", \"liveness\",\n",
        "                \"loudness\", \"speechiness\", \"tempo\", \"valence\"]\n",
        "    fig, axs = plt.subplots(3, 3, figsize=(15, 15))\n",
        "    axs = axs.ravel()\n",
        "    for i, feature in enumerate(features):\n",
        "        axs[i].bar(album, album_df[feature].mean(), color=\"red\")\n",
        "        axs[i].set_title(feature)\n",
        "        axs[i].set_ylim([0, 1])\n",
        "    plt.suptitle(album, fontweight='bold', fontsize='16')\n",
        "    plt.show()"
      ],
      "metadata": {
        "id": "d9polWQUCqFW"
      },
      "execution_count": null,
      "outputs": []
    }
  ]
}